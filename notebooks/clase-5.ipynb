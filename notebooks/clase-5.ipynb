{
 "cells": [
  {
   "cell_type": "markdown",
   "metadata": {},
   "source": [
    "# Método de Jacobi"
   ]
  },
  {
   "cell_type": "code",
   "execution_count": 10,
   "metadata": {},
   "outputs": [],
   "source": [
    "using  LinearAlgebra"
   ]
  },
  {
   "cell_type": "code",
   "execution_count": 11,
   "metadata": {},
   "outputs": [
    {
     "data": {
      "text/plain": [
       "GaussSeidel (generic function with 4 methods)"
      ]
     },
     "metadata": {},
     "output_type": "display_data"
    }
   ],
   "source": [
    "function Jacobi(A,b,x0=Nothing,iters = 10,tol= 0.01)\n",
    "\n",
    "   \n",
    "    D = Diagonal(A)\n",
    "    L = -(LowerTriangular(A) - D )\n",
    "    U = -(UpperTriangular(A) - D )\n",
    "    D1 = inv(D)\n",
    "    T = D1*(L+U)\n",
    "    C = D1*b \n",
    "    xk = zeros(size(A)[1])\n",
    "\n",
    "    n_iters = 0\n",
    "\n",
    "    if x0 != Nothing\n",
    "        xk = x0\n",
    "    end\n",
    "\n",
    "    for i in 1:iters\n",
    "        new_x = T*xk +C\n",
    "        if norm(new_x-xk) < tol\n",
    "            xk = new_x\n",
    "            n_iters +=1\n",
    "            break\n",
    "        end\n",
    "        xk = new_x\n",
    "        n_iters +=1\n",
    "    end\n",
    "    \n",
    "    return iters,xk\n",
    "end\n",
    "\n",
    "\n",
    "function GaussSeidel(A,b,x0=Nothing,iters = 10,tol= 0.01)\n",
    "    \n",
    "    D = Diagonal(A)\n",
    "    L = -(LowerTriangular(A) - D )\n",
    "    U = -(UpperTriangular(A) - D )\n",
    "    DL = inv(D-L)\n",
    "    T = DL*U\n",
    "    C = DL*b\n",
    "    xk = zeros(size(A)[1])\n",
    "\n",
    "    n_iters = 0\n",
    "\n",
    "    if x0 != Nothing\n",
    "        xk = x0\n",
    "    end\n",
    "\n",
    "    for i in 1:iters\n",
    "        new_x = T*xk +C\n",
    "        if norm(new_x-xk) < tol\n",
    "            xk = new_x\n",
    "            n_iters += 1\n",
    "            break\n",
    "        end\n",
    "        xk = new_x\n",
    "        n_iters +=1\n",
    "    end\n",
    "    \n",
    "    return n_iters,xk\n",
    "end"
   ]
  },
  {
   "cell_type": "code",
   "execution_count": 12,
   "metadata": {},
   "outputs": [
    {
     "data": {
      "text/plain": [
       "3-element Vector{Int64}:\n",
       "  7\n",
       " -8\n",
       "  6"
      ]
     },
     "metadata": {},
     "output_type": "display_data"
    }
   ],
   "source": [
    "A = [\n",
    "    10 2 1\n",
    "    1  5 1\n",
    "    2  3 10]\n",
    "\n",
    "b = [7 \n",
    "    -8 \n",
    "     6]"
   ]
  },
  {
   "cell_type": "code",
   "execution_count": 13,
   "metadata": {},
   "outputs": [
    {
     "data": {
      "text/plain": [
       "3-element Vector{Float64}:\n",
       "  1.0002360000000001\n",
       " -1.998936\n",
       "  1.0002840000000002"
      ]
     },
     "metadata": {},
     "output_type": "display_data"
    },
    {
     "data": {
      "text/plain": [
       "3-element Vector{Float64}:\n",
       "  1.0000228008\n",
       " -2.00016897456\n",
       "  1.0000461322080003"
      ]
     },
     "metadata": {},
     "output_type": "display_data"
    },
    {
     "name": "stdout",
     "output_type": "stream",
     "text": [
      "iters Jacobi: 10\n",
      "Iters GaussSeidel: 4\n"
     ]
    }
   ],
   "source": [
    "iters,xj = Jacobi(A,b)\n",
    "println(\"iters Jacobi: $iters\")\n",
    "display(xj)\n",
    "\n",
    "iters,xgs = GaussSeidel(A,b)\n",
    "println(\"Iters GaussSeidel: $iters\")\n",
    "display(xgs)\n"
   ]
  },
  {
   "cell_type": "code",
   "execution_count": 89,
   "metadata": {},
   "outputs": [
    {
     "data": {
      "text/plain": [
       "1.0"
      ]
     },
     "metadata": {},
     "output_type": "display_data"
    }
   ],
   "source": [
    "a,b = 0,1\n",
    "c,d = 0,1\n",
    "\n",
    "cy(x) = 0\n",
    "dy(x) = 100*x\n",
    "ax(y) = 0\n",
    "bx(y) = 100*y \n",
    "\n",
    "\n",
    "f(x,y) = 0\n",
    "\n",
    "h = 0.25\n",
    "k = 0.25\n",
    "\n",
    "nx = Int((b-a)/h)\n",
    "ny = Int((d-c)/k)\n",
    "\n",
    "λ = k^2/h^2 "
   ]
  },
  {
   "cell_type": "code",
   "execution_count": 90,
   "metadata": {},
   "outputs": [
    {
     "data": {
      "text/plain": [
       "5-element LinRange{Float64, Int64}:\n",
       " 0.0, 0.25, 0.5, 0.75, 1.0"
      ]
     },
     "metadata": {},
     "output_type": "display_data"
    },
    {
     "data": {
      "text/plain": [
       "5-element LinRange{Float64, Int64}:\n",
       " 0.0, 0.25, 0.5, 0.75, 1.0"
      ]
     },
     "metadata": {},
     "output_type": "display_data"
    }
   ],
   "source": [
    "x = LinRange(a,b,nx+1)\n",
    "y = LinRange(c,d,ny+1)\n",
    "display(x)\n",
    "display(y)"
   ]
  },
  {
   "cell_type": "code",
   "execution_count": 91,
   "metadata": {},
   "outputs": [
    {
     "data": {
      "text/plain": [
       "5×5 Matrix{Float64}:\n",
       " 0.0   0.0   0.0   0.0    0.0\n",
       " 0.0   0.0   0.0   0.0   25.0\n",
       " 0.0   0.0   0.0   0.0   50.0\n",
       " 0.0   0.0   0.0   0.0   75.0\n",
       " 0.0  25.0  50.0  75.0  100.0"
      ]
     },
     "metadata": {},
     "output_type": "display_data"
    }
   ],
   "source": [
    "U = zeros(nx+1,ny+1)\n",
    "U[1,1:nx+1] = map(cy,x)\n",
    "U[ny+1,1:nx+1] = map(dy,x)\n",
    "U[1:ny+1,1] = map(ax,y)\n",
    "U[1:ny+1,nx+1] = map(bx,y)\n",
    "U"
   ]
  },
  {
   "cell_type": "code",
   "execution_count": 92,
   "metadata": {},
   "outputs": [
    {
     "data": {
      "text/plain": [
       "9-element Vector{Float64}:\n",
       " 0.0\n",
       " 0.0\n",
       " 0.0\n",
       " 0.0\n",
       " 0.0\n",
       " 0.0\n",
       " 0.0\n",
       " 0.0\n",
       " 0.0"
      ]
     },
     "metadata": {},
     "output_type": "display_data"
    }
   ],
   "source": [
    "A = zeros((nx-1)*(ny-1),(nx-1)*(ny-1))\n",
    "B = zeros((nx-1)*(ny-1))"
   ]
  },
  {
   "cell_type": "code",
   "execution_count": 99,
   "metadata": {},
   "outputs": [
    {
     "data": {
      "text/plain": [
       "get_l (generic function with 1 method)"
      ]
     },
     "metadata": {},
     "output_type": "display_data"
    }
   ],
   "source": [
    "function get_l(i,j,N)\n",
    "    return (j-1)*N + i\n",
    "end"
   ]
  },
  {
   "cell_type": "code",
   "execution_count": 110,
   "metadata": {},
   "outputs": [
    {
     "name": "stdout",
     "output_type": "stream",
     "text": [
      "(1,1) = 1\n",
      "(1,2) = 2\n",
      "(1,3) = 3\n",
      "(2,1) = 4\n",
      "(2,2) = 5\n",
      "(2,3) = 6\n",
      "(3,1) = 7\n",
      "(3,2) = 8\n",
      "(3,3) = 9\n"
     ]
    },
    {
     "data": {
      "text/plain": [
       "9×9 Matrix{Float64}:\n",
       " 10.0   2.0   0.0   4.0   0.0   0.0   0.0   0.0   0.0\n",
       "  1.0  10.0   2.0   0.0   4.0   0.0   0.0   0.0   0.0\n",
       "  0.0   1.0  10.0   2.0   0.0   4.0   0.0   0.0   0.0\n",
       "  3.0   0.0   1.0  10.0   2.0   0.0   4.0   0.0   0.0\n",
       "  0.0   3.0   0.0   1.0  10.0   2.0   0.0   4.0   0.0\n",
       "  0.0   0.0   3.0   0.0   1.0  10.0   2.0   0.0   4.0\n",
       "  0.0   0.0   0.0   3.0   0.0   1.0  10.0   2.0   0.0\n",
       "  0.0   0.0   0.0   0.0   3.0   0.0   1.0  10.0   2.0\n",
       "  0.0   0.0   0.0   0.0   0.0   3.0   0.0   1.0  10.0"
      ]
     },
     "metadata": {},
     "output_type": "display_data"
    }
   ],
   "source": [
    "A = zeros((nx-1)*(ny-1),(nx-1)*(ny-1))\n",
    "B = zeros((nx-1)*(ny-1))\n",
    "\n",
    "for i in 1:3\n",
    "    for j in 1:3\n",
    "        v_index = get_l(j,i,3)\n",
    "        println(\"($i,$j) = $v_index\")\n",
    "        v_index_left = get_l(j-1,i,nx-1)\n",
    "        v_index_rigth = get_l(j+1,i,nx-1)\n",
    "        v_index_bot = get_l(j,i-1,nx-1)\n",
    "        v_index_top = get_l(j,i+1,nx-1)\n",
    "\n",
    "        A[v_index,v_index] = 10\n",
    "        \n",
    "        if (v_index_left >=1) & (v_index_left <=9)\n",
    "            A[v_index,v_index_left] = 1\n",
    "        end\n",
    "\n",
    "        if (v_index_rigth >=1) & (v_index_rigth <=9)\n",
    "            A[v_index,v_index_rigth] = 2\n",
    "        end\n",
    "\n",
    "        if (v_index_bot >=1) & (v_index_bot <=9)\n",
    "            A[v_index,v_index_bot] = 3\n",
    "        end\n",
    "\n",
    "        if (v_index_top >=1) & (v_index_top <=9)\n",
    "            A[v_index,v_index_top] = 4\n",
    "        end\n",
    "    end\n",
    "end\n",
    "A"
   ]
  },
  {
   "cell_type": "code",
   "execution_count": 95,
   "metadata": {},
   "outputs": [
    {
     "name": "stdout",
     "output_type": "stream",
     "text": [
      "i=1, j=1\n",
      "i=2, j=2\n",
      "i=3, j=3\n"
     ]
    },
    {
     "data": {
      "text/plain": [
       "9×9 Matrix{Float64}:\n",
       " 2.0  0.0  0.0  0.0  0.0  0.0  0.0  0.0  0.0\n",
       " 0.0  0.0  0.0  0.0  2.0  0.0  0.0  0.0  0.0\n",
       " 0.0  0.0  0.0  0.0  0.0  0.0  0.0  0.0  2.0\n",
       " 0.0  0.0  0.0  0.0  0.0  0.0  0.0  0.0  0.0\n",
       " 0.0  0.0  0.0  0.0  0.0  0.0  0.0  0.0  0.0\n",
       " 0.0  0.0  0.0  0.0  0.0  0.0  0.0  0.0  0.0\n",
       " 0.0  0.0  0.0  0.0  0.0  0.0  0.0  0.0  0.0\n",
       " 0.0  0.0  0.0  0.0  0.0  0.0  0.0  0.0  0.0\n",
       " 0.0  0.0  0.0  0.0  0.0  0.0  0.0  0.0  0.0"
      ]
     },
     "metadata": {},
     "output_type": "display_data"
    }
   ],
   "source": [
    "A = zeros((nx-1)*(ny-1),(nx-1)*(ny-1))\n",
    "B = zeros((nx-1)*(ny-1))\n",
    "\n",
    "for i in 1:nx-1\n",
    "    for j in 1:ny-1\n",
    "        \n",
    "        if i==j\n",
    "            println(\"i=$i, j=$j\")\n",
    "            v_index = get_l(j,i,nx-1)\n",
    "            A[i,v_index] = 2\n",
    "        end\n",
    "        # v_index_left = get_l(j-1,i,nx-1)\n",
    "        # v_index_rigth = get_l(j+1,i,nx-1)\n",
    "        # v_index_bot = get_l(j,i-1,nx-1)\n",
    "        # v_index_top = get_l(j,i+1,nx-1)\n",
    "\n",
    "        # println(\"v_index: $v_index\")\n",
    "        # println(\"v_index_left: $v_index_left\")\n",
    "        # println(\"v_index_rigth: $v_index_rigth\")\n",
    "        # println(\"v_index_bot: $v_index_bot\")\n",
    "        # println(\"v_index_top: $v_index_top\")\n",
    "    end\n",
    "end\n",
    "A"
   ]
  }
 ],
 "metadata": {
  "kernelspec": {
   "display_name": "Julia 1.9.3",
   "language": "julia",
   "name": "julia-1.9"
  },
  "language_info": {
   "file_extension": ".jl",
   "mimetype": "application/julia",
   "name": "julia",
   "version": "1.9.3"
  }
 },
 "nbformat": 4,
 "nbformat_minor": 2
}
